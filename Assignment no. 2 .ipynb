{
 "cells": [
  {
   "cell_type": "markdown",
   "id": "1d76a04f",
   "metadata": {},
   "source": [
    "# Chapter 2 "
   ]
  },
  {
   "cell_type": "code",
   "execution_count": 2,
   "id": "4bb6908d",
   "metadata": {},
   "outputs": [
    {
     "name": "stdout",
     "output_type": "stream",
     "text": [
      "27.2\n"
     ]
    }
   ],
   "source": [
    "x = 12.2 # x and y are variables here\n",
    "y = 15\n",
    "print(x + y)"
   ]
  },
  {
   "cell_type": "code",
   "execution_count": 4,
   "id": "3efcc341",
   "metadata": {},
   "outputs": [
    {
     "name": "stdout",
     "output_type": "stream",
     "text": [
      "3\n",
      "3\n",
      "3.0\n"
     ]
    }
   ],
   "source": [
    "a = str(3)\n",
    "b = int(3)\n",
    "c = float(3)\n",
    "\n",
    "print(a)\n",
    "print(b)\n",
    "print(c)"
   ]
  },
  {
   "cell_type": "code",
   "execution_count": 5,
   "id": "8d5a4c23",
   "metadata": {},
   "outputs": [
    {
     "name": "stdout",
     "output_type": "stream",
     "text": [
      "80\n"
     ]
    }
   ],
   "source": [
    "hours = 35\n",
    "rate = 45\n",
    "pay = hours + rate\n",
    "print(pay)"
   ]
  },
  {
   "cell_type": "markdown",
   "id": "294de9a3",
   "metadata": {},
   "source": [
    "# Chapter 3"
   ]
  },
  {
   "cell_type": "code",
   "execution_count": 6,
   "id": "1c1e1fdc",
   "metadata": {},
   "outputs": [
    {
     "name": "stdout",
     "output_type": "stream",
     "text": [
      "Before 5\n",
      "Is 5\n",
      "Is Still 5\n",
      "Third 5\n",
      "Afterwards 5\n",
      "Before 6\n"
     ]
    }
   ],
   "source": [
    "x = 5\n",
    "print('Before 5')\n",
    "if x == 5 :\n",
    " print('Is 5')\n",
    " print('Is Still 5')\n",
    " print('Third 5')\n",
    " print('Afterwards 5')\n",
    " print('Before 6')\n",
    "if x == 6 :\n",
    " print('Is 6')\n",
    " print('Is Still 6')\n",
    " print('Third 6')\n",
    " print('Afterwards 6')"
   ]
  },
  {
   "cell_type": "code",
   "execution_count": 7,
   "id": "71025666",
   "metadata": {},
   "outputs": [
    {
     "name": "stdout",
     "output_type": "stream",
     "text": [
      "Bigger\n",
      "All done\n"
     ]
    }
   ],
   "source": [
    "i = 4\n",
    "if i > 2 :\n",
    " print('Bigger')\n",
    "else :\n",
    " print('Smaller')\n",
    "print('All done')"
   ]
  },
  {
   "cell_type": "code",
   "execution_count": 8,
   "id": "7d8dbea5",
   "metadata": {},
   "outputs": [
    {
     "name": "stdout",
     "output_type": "stream",
     "text": [
      "Enter your age: 45\n",
      "You are an adult.\n"
     ]
    }
   ],
   "source": [
    "user_age = int(input(\"Enter your age: \"))\n",
    "\n",
    "if user_age < 18:\n",
    "    print(\"You are a minor.\")\n",
    "elif 18 <= user_age < 65:\n",
    "    print(\"You are an adult.\")\n",
    "else:\n",
    "    print(\"You are a senior citizen.\")"
   ]
  },
  {
   "cell_type": "markdown",
   "id": "8fb9a3f6",
   "metadata": {},
   "source": [
    "# Chapter 4"
   ]
  },
  {
   "cell_type": "code",
   "execution_count": 10,
   "id": "de7009f2",
   "metadata": {},
   "outputs": [
    {
     "name": "stdout",
     "output_type": "stream",
     "text": [
      "w\n",
      " \n"
     ]
    }
   ],
   "source": [
    "big = max('Hello world')\n",
    "print(big) \n",
    "tiny = min('Hello world')\n",
    "print(tiny)"
   ]
  },
  {
   "cell_type": "code",
   "execution_count": 11,
   "id": "b7763e37",
   "metadata": {},
   "outputs": [
    {
     "name": "stdout",
     "output_type": "stream",
     "text": [
      "Hello\n",
      "I'm a lumberjack, and I'm okay.\n",
      "I sleep all night and I work all day.\n",
      "Yo\n",
      "7\n"
     ]
    }
   ],
   "source": [
    "x = 5\n",
    "print('Hello')\n",
    "\n",
    "def print_lyrics():\n",
    " print(\"I'm a lumberjack, and I'm okay.\")\n",
    " print('I sleep all night and I work all day.')\n",
    "    \n",
    "print_lyrics()\n",
    "print('Yo')\n",
    "x = x + 2\n",
    "print(x)"
   ]
  },
  {
   "cell_type": "code",
   "execution_count": 12,
   "id": "e0caf99b",
   "metadata": {},
   "outputs": [
    {
     "name": "stdout",
     "output_type": "stream",
     "text": [
      "Hello\n",
      "Hola\n",
      "Bonjour\n"
     ]
    }
   ],
   "source": [
    "def greet(lang):\n",
    " if lang == 'es':\n",
    "  print('Hola')\n",
    " elif lang == 'fr':\n",
    "  print('Bonjour')\n",
    " else:\n",
    "  print('Hello')\n",
    "\n",
    "greet('en')\n",
    "\n",
    "greet('es')\n",
    "\n",
    "greet('fr')"
   ]
  },
  {
   "cell_type": "markdown",
   "id": "d0a5f105",
   "metadata": {},
   "source": [
    "# chapter 5 "
   ]
  },
  {
   "cell_type": "code",
   "execution_count": null,
   "id": "688dfc35",
   "metadata": {},
   "outputs": [],
   "source": [
    "for i in [5, 4, 3, 2, 1] :\n",
    "  print(i)\n",
    "print('Blastoff!')"
   ]
  },
  {
   "cell_type": "code",
   "execution_count": null,
   "id": "2dd1fa2f",
   "metadata": {},
   "outputs": [],
   "source": [
    "friends = ['Joseph', 'Glenn', 'Sally']\n",
    "for friend in friends :\n",
    " print('Happy New Year:', friend)\n",
    "print('Done!')"
   ]
  },
  {
   "cell_type": "code",
   "execution_count": null,
   "id": "1d5199f1",
   "metadata": {},
   "outputs": [],
   "source": [
    "# Iterate over a list of numbers\n",
    "numbers = [1, 2, 3, 4, 5]\n",
    "for num in numbers:\n",
    "    print(num)\n",
    "​\n",
    "# Iterate over a string\n",
    "text = \"Hello, World!\"\n",
    "for char in text:\n",
    "    print(char)\n",
    "​\n",
    "# Iterate over a range of numbers\n",
    "for i in range(1, 6):\n",
    "    print(\"Iteration\", i)"
   ]
  },
  {
   "cell_type": "markdown",
   "id": "77c88a7f",
   "metadata": {},
   "source": [
    "# chapter 6 "
   ]
  },
  {
   "cell_type": "code",
   "execution_count": null,
   "id": "4ec5b453",
   "metadata": {},
   "outputs": [],
   "source": [
    "a = \"Hello World!\"\n",
    "print(len(a))\n"
   ]
  },
  {
   "cell_type": "code",
   "execution_count": null,
   "id": "83f1eac0",
   "metadata": {},
   "outputs": [],
   "source": [
    "txt = \"The best things in life are free!\"\n",
    "if \"free\" in txt:\n",
    "  print(\"Yes, 'free' is present.\")"
   ]
  },
  {
   "cell_type": "code",
   "execution_count": null,
   "id": "ddf4fa21",
   "metadata": {},
   "outputs": [],
   "source": [
    "greet = ' Hello Bob '\n",
    "greet.lstrip()\n",
    "'Hello Bob '\n",
    "greet.rstrip()\n",
    "' Hello Bob'\n",
    "greet.strip()\n",
    "'Hello Bob'"
   ]
  },
  {
   "cell_type": "code",
   "execution_count": null,
   "id": "880cdf94",
   "metadata": {},
   "outputs": [],
   "source": []
  }
 ],
 "metadata": {
  "kernelspec": {
   "display_name": "Python 3 (ipykernel)",
   "language": "python",
   "name": "python3"
  },
  "language_info": {
   "codemirror_mode": {
    "name": "ipython",
    "version": 3
   },
   "file_extension": ".py",
   "mimetype": "text/x-python",
   "name": "python",
   "nbconvert_exporter": "python",
   "pygments_lexer": "ipython3",
   "version": "3.11.4"
  }
 },
 "nbformat": 4,
 "nbformat_minor": 5
}
